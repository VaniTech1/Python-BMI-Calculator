{
 "cells": [
  {
   "cell_type": "code",
   "execution_count": 4,
   "id": "a566d771",
   "metadata": {},
   "outputs": [
    {
     "name": "stdout",
     "output_type": "stream",
     "text": [
      "Enter your Name:Vani\n",
      "Enter the weight in pounds:165\n",
      "Enter the height in inches:64\n",
      "29.40673828125\n",
      "Vani, you are Overweight.\n"
     ]
    }
   ],
   "source": [
    "name = input(\"Enter your Name:\")\n",
    "\n",
    "weight = int(input(\"Enter the weight in pounds:\"))\n",
    "\n",
    "height = int(input(\"Enter the height in inches:\"))\n",
    "\n",
    "BMI = (weight * 730) / (height * height)\n",
    "print(BMI)\n",
    "\n",
    "if BMI > 0:\n",
    "    if(BMI < 18.5):\n",
    "        print(name+\", you are Underweight.\")\n",
    "    elif(BMI <= 24.9):\n",
    "        print(name+\", you are Normal weight.\")\n",
    "    elif(BMI <= 29.9):\n",
    "        print(name+\", you are Overweight.\")\n",
    "    elif(BMI <= 34.9):\n",
    "        print(name+\", you are Obese.\")\n",
    "    elif(BMI <= 39.9):\n",
    "        print(name+\", you are Severely Obese.\")\n",
    "    else:\n",
    "         print(name+\", you are Mobidly Obese.\")\n",
    "else:\n",
    "    print(\"Enter valid input\")\n",
    "        \n",
    "    "
   ]
  },
  {
   "cell_type": "code",
   "execution_count": null,
   "id": "418781a8",
   "metadata": {},
   "outputs": [],
   "source": []
  }
 ],
 "metadata": {
  "kernelspec": {
   "display_name": "Python 3 (ipykernel)",
   "language": "python",
   "name": "python3"
  },
  "language_info": {
   "codemirror_mode": {
    "name": "ipython",
    "version": 3
   },
   "file_extension": ".py",
   "mimetype": "text/x-python",
   "name": "python",
   "nbconvert_exporter": "python",
   "pygments_lexer": "ipython3",
   "version": "3.9.12"
  }
 },
 "nbformat": 4,
 "nbformat_minor": 5
}
